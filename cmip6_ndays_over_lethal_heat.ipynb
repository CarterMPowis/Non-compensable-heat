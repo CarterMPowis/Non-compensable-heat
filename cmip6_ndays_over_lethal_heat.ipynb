{
 "cells": [
  {
   "cell_type": "markdown",
   "id": "6c2e15b5-d84b-461e-b0db-7816f7bc4d0f",
   "metadata": {},
   "source": [
    "Takes daily lethal heat hour count, and counts the number of lethal heat days per year.\n",
    "\n",
    "This uses existing hours_over_lh files, which contain the daily number of hours per day over LH.\n",
    "It fetches them from a remote bucket in batches.\n",
    "\n",
    "Hour count files are output from cmip6_daily_lethal_heat_hours.ipynb"
   ]
  },
  {
   "cell_type": "code",
   "execution_count": 5,
   "id": "f31a1d38-084a-40b7-b701-2491d024f461",
   "metadata": {},
   "outputs": [],
   "source": [
    "import xarray as xr\n",
    "import matplotlib.pyplot as pyplot\n",
    "import numpy as np\n",
    "from os.path import join\n",
    "import subprocess"
   ]
  },
  {
   "cell_type": "code",
   "execution_count": 36,
   "id": "9dc83e90-bf7b-43e4-af05-4ca23acfcbb9",
   "metadata": {},
   "outputs": [],
   "source": [
    "# list of models to analyse and the name of the scenario\n",
    "models = ['ACCESS-CM2','ACCESS-ESM1-5',\n",
    "          'CNRM-CM6-1', 'CNRM-ESM2-1', 'CanESM5',\n",
    "          'EC-Earth3-Veg-LR', 'FGOALS-g3', 'GFDL-CM4',\n",
    "          'INM-CM4-8', 'INM-CM5-0', 'IPSL-CM6A-LR',\n",
    "          'MIROC-ES2L', 'MIROC6', 'MPI-ESM1-2-HR',\n",
    "          'MPI-ESM1-2-LR', 'MRI-ESM2-0']\n",
    "scenario = 'ssp585'\n",
    "\n",
    "# Directory names\n",
    "dp_data = '/home/davidbyrne/disks/ssd2/lethal_heat/data/'\n",
    "dp_out = join(dp_data,'ndays_pyear_by_year')\n",
    "dp_tmp = join(dp_data, 'tmp/')\n",
    "gs_holh = 'gs://fqqzlp/lethal_heat_vecellio/hours_over_lh_daily/'"
   ]
  },
  {
   "cell_type": "code",
   "execution_count": null,
   "id": "e0ef6907-cce2-449f-800a-9b75ec45767d",
   "metadata": {},
   "outputs": [
    {
     "name": "stdout",
     "output_type": "stream",
     "text": [
      "FGOALS-g3-Veg-LR\r"
     ]
    }
   ],
   "source": [
    "# Loop over models\n",
    "for model in models:\n",
    "    \n",
    "    print(model, end='\\r')\n",
    "\n",
    "    # Template File names\n",
    "    fp = join( dp_tmp, f'tolh_{model}_{scenario}_*.nc' )\n",
    "    fp_out = join( dp_out, f'tolh_ndays_{model}_{scenario}.nc')\n",
    "    \n",
    "    # Download each model/scenario at a time\n",
    "    fp_template = join(gs_holh, f'tolh_{model}_{scenario}_*.nc')\n",
    "    subprocess.run(f'gsutil -m cp {fp_template} {dp_tmp}',\n",
    "                   shell=True, stdout=subprocess.DEVNULL, stderr=subprocess.DEVNULL)\n",
    "\n",
    "    # Open all files into one dataset\n",
    "    ds = xr.open_mfdataset(fp, chunks='auto')['hours_over_lh']\n",
    "    ds_out = xr.Dataset()\n",
    "    ds_out['lon'] = ds['lon']\n",
    "    ds_out['lat'] = ds['lat']\n",
    "    \n",
    "    # Set the number of hours to analyse\n",
    "    hours = [3, 6, 9, 12, 15]\n",
    "    for hh in hours:\n",
    "        ds_out[f'ndays_over_{hh}hrs'] = (ds >= hh).resample(time='1Y').sum(dim='time')\n",
    "\n",
    "    # Write to output file\n",
    "    ds_out.to_netcdf(fp_out)\n",
    "    \n",
    "    # Remove temporary files\n",
    "    subprocess.run(f'rm {dp_tmp}/*', shell=True)"
   ]
  },
  {
   "cell_type": "code",
   "execution_count": null,
   "id": "2c871252-dd22-4148-8c4d-d1dd80505d31",
   "metadata": {},
   "outputs": [],
   "source": []
  }
 ],
 "metadata": {
  "kernelspec": {
   "display_name": "Python 3 (ipykernel)",
   "language": "python",
   "name": "python3"
  },
  "language_info": {
   "codemirror_mode": {
    "name": "ipython",
    "version": 3
   },
   "file_extension": ".py",
   "mimetype": "text/x-python",
   "name": "python",
   "nbconvert_exporter": "python",
   "pygments_lexer": "ipython3",
   "version": "3.10.6"
  }
 },
 "nbformat": 4,
 "nbformat_minor": 5
}
