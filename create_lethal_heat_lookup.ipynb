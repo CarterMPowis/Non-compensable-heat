{
 "cells": [
  {
   "cell_type": "code",
   "execution_count": null,
   "id": "c37a9673-f935-410a-9ebf-ee5781243145",
   "metadata": {},
   "outputs": [],
   "source": [
    "%load_ext autoreload\n",
    "%autoreload 2\n",
    "import numpy as np\n",
    "from lethal_heat import Vecellio22\n",
    "import xarray as xr"
   ]
  },
  {
   "cell_type": "code",
   "execution_count": null,
   "id": "f5ee302a-ea90-4eec-8daf-ae8d9d149d19",
   "metadata": {},
   "outputs": [],
   "source": [
    "fp_out = '<REPLACE WITH OUTPUT FILENAME>'"
   ]
  },
  {
   "cell_type": "code",
   "execution_count": null,
   "id": "89de4dd6-3afa-496a-a555-6e92f278ba59",
   "metadata": {},
   "outputs": [],
   "source": [
    "tmean = np.arange(25, 40.2,)\n",
    "rmean = np.arange(0, 100.2,)\n",
    "tamp = np.arange(0, 30.5,)\n",
    "ramp = np.arange(0, 30.5,)\n",
    "v22 = Vecellio22(degree=2)\n",
    "lookup = v22.create_lookup_table(tmean, rmean, tamp, ramp)\n",
    "lookup.to_netcdf(fp_out)"
   ]
  }
 ],
 "metadata": {
  "kernelspec": {
   "display_name": "Python 3 (ipykernel)",
   "language": "python",
   "name": "python3"
  },
  "language_info": {
   "codemirror_mode": {
    "name": "ipython",
    "version": 3
   },
   "file_extension": ".py",
   "mimetype": "text/x-python",
   "name": "python",
   "nbconvert_exporter": "python",
   "pygments_lexer": "ipython3",
   "version": "3.10.6"
  }
 },
 "nbformat": 4,
 "nbformat_minor": 5
}
