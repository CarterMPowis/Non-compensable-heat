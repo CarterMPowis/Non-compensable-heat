{
 "cells": [
  {
   "cell_type": "code",
   "execution_count": null,
   "id": "c37a9673-f935-410a-9ebf-ee5781243145",
   "metadata": {},
   "outputs": [],
   "source": [
    "import numpy as np\n",
    "from lethal_heat import Vecellio22\n",
    "import xarray as xr"
   ]
  },
  {
   "cell_type": "code",
   "execution_count": null,
   "id": "89de4dd6-3afa-496a-a555-6e92f278ba59",
   "metadata": {},
   "outputs": [],
   "source": [
    "# Define output file\n",
    "fp_out = './lh_lookup.nc'\n",
    "\n",
    "# Create ranges over which to generate lookup table.\n",
    "t_mean = np.arange(25, 40.2, 0.2) \n",
    "r_mean = np.arange(0, 100.2, 0.2)\n",
    "t_amp = np.arange(0, 30.5, 0.5)\n",
    "r_amp = np.arange(0, 30.5, 0.5)\n",
    "\n",
    "# Generate a Vecellio22() object and create a lookup table\n",
    "v22 = Vecellio22(degree=2)\n",
    "lookup = v22.create_lookup_table(t_mean, r_mean, t_amp, r_amp)\n",
    "\n",
    "# Save to netCDF\n",
    "lookup.to_netcdf(fp_out)"
   ]
  }
 ],
 "metadata": {
  "kernelspec": {
   "display_name": "Python 3 (ipykernel)",
   "language": "python",
   "name": "python3"
  },
  "language_info": {
   "codemirror_mode": {
    "name": "ipython",
    "version": 3
   },
   "file_extension": ".py",
   "mimetype": "text/x-python",
   "name": "python",
   "nbconvert_exporter": "python",
   "pygments_lexer": "ipython3",
   "version": "3.11.3"
  }
 },
 "nbformat": 4,
 "nbformat_minor": 5
}
