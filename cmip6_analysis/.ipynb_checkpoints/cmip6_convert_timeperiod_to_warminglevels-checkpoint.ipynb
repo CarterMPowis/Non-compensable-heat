{
 "cells": [
  {
   "cell_type": "code",
   "execution_count": 1,
   "id": "652a60a9-719c-441f-b613-e16b841ea2d3",
   "metadata": {},
   "outputs": [],
   "source": [
    "import matplotlib.pyplot as plt\n",
    "import numpy as np\n",
    "import xarray as xr\n",
    "import glob\n",
    "from niceplots import geographic\n",
    "from global_land_mask import globe\n",
    "from lethal_heat import Vecellio22"
   ]
  },
  {
   "cell_type": "code",
   "execution_count": 2,
   "id": "316af935-1dbd-4e02-8faa-5f02c4d7cafe",
   "metadata": {},
   "outputs": [],
   "source": [
    "fp_list_585 = glob.glob('/home/davidbyrne/disks/ssd2/projects/carter2/data/tolh_analysis/*ssp585*')\n",
    "fp_list_245 = glob.glob('/home/davidbyrne/disks/ssd2/projects/carter2/data/tolh_analysis/*ssp245*')"
   ]
  },
  {
   "cell_type": "code",
   "execution_count": null,
   "id": "0da5f164-dc93-483e-98e2-4d5941d100bf",
   "metadata": {},
   "outputs": [],
   "source": [
    "ds_list_585 = [xr.open_dataset(fp, chunks = {}) for fp in fp_list_585]\n",
    "ds_585 = xr.concat(ds_list_585, dim='model')\n",
    "ds_585_med = ds_585.median(dim='model').compute()\n",
    "\n",
    "ds_list_245 = [xr.open_dataset(fp, chunks = {}) for fp in fp_list_245]\n",
    "ds_245 = xr.concat(ds_list_245, dim='model')\n",
    "ds_245_med = ds_245.median(dim='model').compute()"
   ]
  },
  {
   "cell_type": "code",
   "execution_count": null,
   "id": "caa7e17b-6ead-4f00-a704-653633c7e247",
   "metadata": {},
   "outputs": [],
   "source": [
    "# Make landmask\n",
    "lon2, lat2 = np.meshgrid(ds_585.lon, ds_585.lat)\n",
    "landmask = globe.is_land(lat2, lon2)\n",
    "landmaskW = np.where(~landmask)"
   ]
  },
  {
   "cell_type": "markdown",
   "id": "bf96ef39-6a05-419d-ab10-6ed90e1a910b",
   "metadata": {},
   "source": [
    "### 20 Year Average Days Per Year [MAPS]"
   ]
  },
  {
   "cell_type": "code",
   "execution_count": null,
   "id": "3831fff3-ee3f-4b6c-802b-14333c6d037b",
   "metadata": {},
   "outputs": [],
   "source": [
    "ds_med_585_roll = ds_585_med.rolling(dim = {'time':31}, center=True).mean()\n",
    "ds_med_245_roll = ds_245_med.rolling(dim = {'time':31}, center=True).mean()"
   ]
  },
  {
   "cell_type": "code",
   "execution_count": null,
   "id": "8379a5e9-8a11-4fde-a533-9da767fa9c7b",
   "metadata": {},
   "outputs": [],
   "source": [
    "f,a = geographic.create_geo_subplots(lonbounds = [-179, 179], latbounds = [-40, 60], \n",
    "                                     n_r = 3, n_c=2, figsize = (6,6),\n",
    "                                     land_color='none', coast_color='k')\n",
    "#a = a[0][0]\n",
    "plot_var_585 = ds_med_585_roll.ndays_3.where(ds_med_585_roll.ndays_3 > 0, np.nan).values\n",
    "plot_var_585[:, landmaskW[0], landmaskW[1]] = np.nan\n",
    "\n",
    "plot_var_245 = ds_med_245_roll.ndays_3.where(ds_med_245_roll.ndays_3 > 0, np.nan).values\n",
    "plot_var_245[:, landmaskW[0], landmaskW[1]] = np.nan\n",
    "\n",
    "cmap = 'viridis'\n",
    "\n",
    "a[0][0].pcolormesh(ds_585.lon, ds_585.lat, plot_var_585[16], cmap = plt.get_cmap(cmap, 9), vmin=0, vmax=100)\n",
    "a[1][0].pcolormesh(ds_585.lon, ds_585.lat, plot_var_585[64], cmap = plt.get_cmap(cmap, 9), vmin=0,vmax=100)\n",
    "a[2][0].pcolormesh(ds_585.lon, ds_585.lat, plot_var_585[114], cmap = plt.get_cmap(cmap, 9), vmin=0,vmax=100)\n",
    "\n",
    "a[0][1].pcolormesh(ds_245.lon, ds_245.lat, plot_var_245[16], cmap = plt.get_cmap(cmap, 9), vmin=0,vmax=100)\n",
    "a[1][1].pcolormesh(ds_245.lon, ds_245.lat, plot_var_245[64], cmap = plt.get_cmap(cmap, 9), vmin=0,vmax=100)\n",
    "a[2][1].pcolormesh(ds_245.lon, ds_245.lat, plot_var_245[114], cmap = plt.get_cmap(cmap, 9), vmin=0,vmax=100)\n",
    "\n",
    "f.tight_layout()"
   ]
  },
  {
   "cell_type": "code",
   "execution_count": null,
   "id": "2ee79af7-6063-470b-8f49-5ea56448be37",
   "metadata": {},
   "outputs": [],
   "source": [
    "plt.pcolormesh(ds_585.lon, ds_585.lat, plot_var_585[16], cmap = plt.get_cmap(cmap, 9), vmax=100, vmin=0)\n",
    "plt.colorbar(extend='max')"
   ]
  },
  {
   "cell_type": "markdown",
   "id": "00b1dbcd-14e9-4df5-94d7-25d30a8c9060",
   "metadata": {},
   "source": [
    "### Lethal Areas"
   ]
  },
  {
   "cell_type": "code",
   "execution_count": null,
   "id": "da3818b2-80ef-4ef6-b018-ba7fa648749a",
   "metadata": {},
   "outputs": [],
   "source": [
    "ds_roll_585 = ds_585.rolling(dim = {'time':31}).mean().compute()\n",
    "ds_roll_245 = ds_245.rolling(dim = {'time':31}).mean().compute()"
   ]
  },
  {
   "cell_type": "code",
   "execution_count": null,
   "id": "2bd655ed-a44f-44ef-918f-758779473bd5",
   "metadata": {},
   "outputs": [],
   "source": [
    "ds_roll_area_585 = ds_roll_585 >= 1\n",
    "ds_roll_area_1d_585 = ds_roll_area_585.sum(dim=['lat','lon'])\n",
    "ds_roll_area_mean_585 = ds_roll_area_1d_585.mean(dim='model')\n",
    "ds_roll_area_std_585 = ds_roll_area_1d_585.std(dim='model')\n",
    "\n",
    "ds_roll_area_245 = ds_roll_245 >= 1\n",
    "ds_roll_area_1d_245 = ds_roll_area_245.sum(dim=['lat','lon'])\n",
    "ds_roll_area_mean_245 = ds_roll_area_1d_245.mean(dim='model')\n",
    "ds_roll_area_std_245 = ds_roll_area_1d_245.std(dim='model')"
   ]
  },
  {
   "cell_type": "code",
   "execution_count": null,
   "id": "3e913255-ef27-43d3-a4c1-70127c3ef287",
   "metadata": {},
   "outputs": [],
   "source": [
    "plt.fill_between(ds_roll_area_mean_585.time[15:-15], \n",
    "                 ds_roll_area_mean_585.ndays_3[30:] + ds_roll_area_std_585.ndays_3[30:],\n",
    "                 ds_roll_area_mean_585.ndays_3[30:] - ds_roll_area_std_585.ndays_3[30:], alpha=.25)\n",
    "p1 = plt.plot(ds_roll_area_mean_585.time[15:-15], ds_roll_area_mean_585.ndays_3[30:])[0]\n",
    "\n",
    "plt.fill_between(ds_roll_area_mean_245.time[15:-15], \n",
    "                 ds_roll_area_mean_245.ndays_3[30:] + ds_roll_area_std_245.ndays_3[30:],\n",
    "                 ds_roll_area_mean_245.ndays_3[30:] - ds_roll_area_std_245.ndays_3[30:], alpha=.25)\n",
    "p2 = plt.plot(ds_roll_area_mean_245.time[15:-15], ds_roll_area_mean_245.ndays_3[30:])[0]\n",
    "\n",
    "plt.legend([p1, p2],['ssp585', 'ssp245'])\n",
    "plt.title('Land Area with >1 day per year of 3hr LH')\n",
    "plt.grid()"
   ]
  },
  {
   "cell_type": "code",
   "execution_count": null,
   "id": "cf291f28-ec95-4c43-9acb-3cdf8c9abc8b",
   "metadata": {},
   "outputs": [],
   "source": [
    "ds_roll_days_585 = ds_roll_585.sum(dim=['lat','lon'])\n",
    "ds_roll_days_mean_585 = ds_roll_days_585.mean(dim='model')\n",
    "ds_roll_days_std_585 = ds_roll_days_585.std(dim='model')\n",
    "\n",
    "ds_roll_days_245 = ds_roll_245.sum(dim=['lat','lon'])\n",
    "ds_roll_days_mean_245 = ds_roll_days_245.mean(dim='model')\n",
    "ds_roll_days_std_245 = ds_roll_days_245.std(dim='model')"
   ]
  },
  {
   "cell_type": "code",
   "execution_count": null,
   "id": "f2a43186-ff76-4700-b4ab-2fdd8b599244",
   "metadata": {},
   "outputs": [],
   "source": [
    "plt.fill_between(ds_roll_days_mean_585.time[15:-15], \n",
    "                 ds_roll_days_mean_585.ndays_3[30:] + ds_roll_days_std_585.ndays_3[30:],\n",
    "                 ds_roll_days_mean_585.ndays_3[30:] - ds_roll_days_std_585.ndays_3[30:], alpha=.25)\n",
    "p1 = plt.plot(ds_roll_days_mean_585.time[15:-15], ds_roll_days_mean_585.ndays_3[30:])[0]\n",
    "\n",
    "plt.fill_between(ds_roll_days_mean_245.time[15:-15], \n",
    "                 ds_roll_days_mean_245.ndays_3[30:] + ds_roll_days_std_245.ndays_3[30:],\n",
    "                 ds_roll_days_mean_245.ndays_3[30:] - ds_roll_days_std_245.ndays_3[30:], alpha=.25)\n",
    "p2 = plt.plot(ds_roll_days_mean_245.time[15:-15], ds_roll_days_std_245.ndays_3[30:])[0]\n",
    "\n",
    "plt.legend([p1, p2],['ssp585', 'ssp245'])\n",
    "plt.title('Total number of days per year with >3H lethal heat')\n",
    "plt.grid()"
   ]
  },
  {
   "cell_type": "code",
   "execution_count": null,
   "id": "583b8a25-ed6d-4283-8789-79d105b1de74",
   "metadata": {},
   "outputs": [],
   "source": [
    "v22 = Vecellio22(degree=2)\n",
    "f = v22.plot(tbounds=[31,55], rbounds = [0,100], figsize=(5,5))"
   ]
  },
  {
   "cell_type": "code",
   "execution_count": null,
   "id": "2f60fa09-30c7-49e5-82ac-ec983104685d",
   "metadata": {},
   "outputs": [],
   "source": []
  }
 ],
 "metadata": {
  "kernelspec": {
   "display_name": "Python 3 (ipykernel)",
   "language": "python",
   "name": "python3"
  },
  "language_info": {
   "codemirror_mode": {
    "name": "ipython",
    "version": 3
   },
   "file_extension": ".py",
   "mimetype": "text/x-python",
   "name": "python",
   "nbconvert_exporter": "python",
   "pygments_lexer": "ipython3",
   "version": "3.10.6"
  }
 },
 "nbformat": 4,
 "nbformat_minor": 5
}
